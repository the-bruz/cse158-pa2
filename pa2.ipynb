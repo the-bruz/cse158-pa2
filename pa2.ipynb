{
 "cells": [
  {
   "cell_type": "code",
   "execution_count": 13,
   "metadata": {},
   "outputs": [],
   "source": [
    "import gzip\n",
    "from collections import defaultdict"
   ]
  },
  {
   "cell_type": "code",
   "execution_count": 4,
   "metadata": {},
   "outputs": [],
   "source": [
    "def readGz(path):\n",
    "    for l in gzip.open(path, 'rt'):\n",
    "        yield eval(l)"
   ]
  },
  {
   "cell_type": "code",
   "execution_count": 5,
   "metadata": {},
   "outputs": [],
   "source": [
    "data = []\n",
    "count = 0\n",
    "for d in readGz('ratebeer.json.gz'):\n",
    "    count += 1\n",
    "    data.append(d)\n",
    "    if (count >= 100000):\n",
    "        break"
   ]
  },
  {
   "cell_type": "code",
   "execution_count": 14,
   "metadata": {},
   "outputs": [],
   "source": [
    "itemPerUser = defaultdict(list)\n",
    "userPerItem = defaultdict(list)\n",
    "brewerSet = set()\n",
    "for d in data:\n",
    "    itemPerUser[d['review/profileName']].append((d['beer/beerId'], d['review/overall']))\n",
    "    userPerItem[d['beer/beerId']].append((d['review/profileName'], d['review/overall']))\n",
    "    brewerSet.add(d['beer/brewerId'])"
   ]
  }
 ],
 "metadata": {
  "kernelspec": {
   "display_name": "Python 3.9.12 ('base')",
   "language": "python",
   "name": "python3"
  },
  "language_info": {
   "codemirror_mode": {
    "name": "ipython",
    "version": 3
   },
   "file_extension": ".py",
   "mimetype": "text/x-python",
   "name": "python",
   "nbconvert_exporter": "python",
   "pygments_lexer": "ipython3",
   "version": "3.9.12"
  },
  "orig_nbformat": 4,
  "vscode": {
   "interpreter": {
    "hash": "d3c92642573f88b75769af51b3c9b8d3edb9869e89df51c4dfa48a8a509cdb99"
   }
  }
 },
 "nbformat": 4,
 "nbformat_minor": 2
}
